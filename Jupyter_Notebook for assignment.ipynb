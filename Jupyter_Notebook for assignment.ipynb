{
  "metadata": {
    "kernelspec": {
      "name": "python",
      "display_name": "Python (Pyodide)",
      "language": "python"
    },
    "language_info": {
      "name": ""
    }
  },
  "nbformat_minor": 4,
  "nbformat": 4,
  "cells": [
    {
      "cell_type": "markdown",
      "source": "<center>\n    <img src=\"https://cf-courses-data.s3.us.cloud-object-storage.appdomain.cloud/IBMDeveloperSkillsNetwork-DS0105EN-SkillsNetwork/labs/Module2/images/SN_web_lightmode.png\" width=\"300\" alt=\"cognitiveclass.ai logo\">\n</center>\n",
      "metadata": {}
    },
    {
      "cell_type": "markdown",
      "source": "#### Add your code below following the instructions given in the course\n",
      "metadata": {}
    },
    {
      "cell_type": "markdown",
      "source": "# My Jupyter Notebook on IBM Watson Studio",
      "metadata": {}
    },
    {
      "cell_type": "markdown",
      "source": "**Naama Rozen**\n\nData Researcher",
      "metadata": {}
    },
    {
      "cell_type": "markdown",
      "source": "*I am interested in data science because it includes researching and analyzing data (two of my biggest passions). Hence, I want to understand the field better and get an idea of how and in what position can I join the industry.*",
      "metadata": {}
    },
    {
      "cell_type": "markdown",
      "source": "### Multiplying 2 and 4:",
      "metadata": {}
    },
    {
      "cell_type": "code",
      "source": "2 * 4",
      "metadata": {
        "trusted": true
      },
      "execution_count": null,
      "outputs": []
    },
    {
      "cell_type": "markdown",
      "source": "### Horizontal rule:\n<hr />\n\n<hr />\n\n<hr />\n\n\n### Bulleted list:\n* A\n* B\n* C\n* D\n\n\n### Blocked quotes:\n> Quoted text:\n> > \"Knowledge is power\"\n\n### Numbered list:\n1. A\n2. B\n3. C\n4. D",
      "metadata": {}
    }
  ]
}